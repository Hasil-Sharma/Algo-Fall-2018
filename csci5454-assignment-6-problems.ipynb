{
 "cells": [
  {
   "cell_type": "markdown",
   "metadata": {},
   "source": [
    "# CSCI 5454 Assignment 6"
   ]
  },
  {
   "cell_type": "markdown",
   "metadata": {},
   "source": [
    "## Instructions\n",
    "\n",
    "Name: Hasil Sharma\n",
    "\n",
    "Collaborated With: \n",
    "\n",
    "> This assignment is to be completed and uploaded to \n",
    "moodle as a python3 notebook. \n",
    "\n",
    "> Submission deadlines are posted on moodle. \n",
    "\n",
    "> The questions  provided  below will ask you to either write code or \n",
    "write answers in the form of markdown.\n",
    "\n",
    "> Markdown syntax guide is here: [click here](https://github.com/adam-p/markdown-here/wiki/Markdown-Cheatsheet)\n",
    "\n",
    "> Using markdown you can typeset formulae using latex.\n",
    "\n",
    "> This way you can write nice readable answers with formulae like thus:\n",
    "\n",
    ">> The algorithm runs in time $\\Theta\\left(n^{2.1\\log_2(\\log_2( n \\log^*(n)))}\\right)$, \n",
    "wherein $\\log^*(n)$ is the inverse _Ackerman_ function.\n",
    "\n",
    "__Double click anywhere on this box to find out how your instructor typeset it. Press Shift+Enter to go back. __\n"
   ]
  },
  {
   "cell_type": "markdown",
   "metadata": {},
   "source": [
    "## Question 1: Dynamic Programmer Jane's Progress\n",
    "\n",
    "**Note:** Need to connect to internet to see images. \n",
    "\n",
    "We are writing a simple game AI for guiding our `Jane` the dynamic programmer to jump through a set of levels to reach a target level by taking\n",
    "courses in dynamic programming.\n",
    "\n",
    "The levels positions are numbered 1, ... , n. The character starts at level 1 and the goal is to reach level n (where she becomes\n",
    "a d.p. ninja) and thus aces CSCI 5454.\n",
    "After taking a course, she can choose to move up by 1, 4, 5 or 11 levels forward at each step. No backward jumps are available.\n",
    "\n",
    "<img src=\"http://www.cs.colorado.edu/~srirams/courses/csci5454-fall18/pictures/jane-picture-p1.png\">\n",
    "\n",
    "Your goal is to use dynamic programming to find out how to reach from level 1 to level n with the minimum number of courses.\n",
    "\n",
    "## 1(A) Write a recurrence.\n",
    "\n",
    "Write a recurrence `minCoursesForJane(j, n)` that represents the minimum number of steps for Jane to reach from level j to level n.\n"
   ]
  },
  {
   "cell_type": "code",
   "execution_count": 1,
   "metadata": {
    "ExecuteTime": {
     "end_time": "2018-10-10T23:02:11.192329Z",
     "start_time": "2018-10-10T23:02:11.187371Z"
    }
   },
   "outputs": [],
   "source": [
    "from math import inf\n",
    "def minCoursesForJane(j, n): \n",
    "    # Your code here\n",
    "    # Must return a number \n",
    "    diff = n - j\n",
    "    if diff == 0:\n",
    "        return 0\n",
    "    elif diff < 0:\n",
    "        return inf\n",
    "    \n",
    "    ans = inf\n",
    "    for i in [1,4,5,11]:\n",
    "        ans = min(ans, 1 + minCoursesForJane(j + i, n))\n",
    "    return ans"
   ]
  },
  {
   "cell_type": "code",
   "execution_count": 2,
   "metadata": {
    "ExecuteTime": {
     "end_time": "2018-10-10T23:03:21.378040Z",
     "start_time": "2018-10-10T23:02:11.194450Z"
    }
   },
   "outputs": [
    {
     "name": "stdout",
     "output_type": "stream",
     "text": [
      "2\n",
      "2\n",
      "4\n",
      "3\n",
      "5\n"
     ]
    }
   ],
   "source": [
    "## Test Code: Do not edit\n",
    "print(minCoursesForJane(1, 9)) # should be 2\n",
    "print(minCoursesForJane(1, 13)) # should be 2\n",
    "print(minCoursesForJane(1, 19)) # should be 4\n",
    "print(minCoursesForJane(1, 34)) # should be 3\n",
    "print(minCoursesForJane(1, 43)) # should be 5"
   ]
  },
  {
   "cell_type": "markdown",
   "metadata": {},
   "source": [
    "## 1(B) Memoize the Recurrence.\n",
    "\n",
    "Assume that n is fixed. The memo table $T[0], \\ldots, T[n]$ should store the value of `minCoursesForJane(j, n)`. "
   ]
  },
  {
   "cell_type": "code",
   "execution_count": 3,
   "metadata": {
    "ExecuteTime": {
     "end_time": "2018-10-10T23:03:21.383203Z",
     "start_time": "2018-10-10T23:03:21.379700Z"
    }
   },
   "outputs": [],
   "source": [
    "from math import inf\n",
    "def minCoursesForJane_Memoize(n): # Assume that j = 1 is always the starting point.\n",
    "    # must return a number\n",
    "    # answer must coincide with recursive version\n",
    "    dp = [inf]*(n+1)\n",
    "    dp[1] = 0\n",
    "    for i in range(1, n+1):\n",
    "        for j in [1,4,5,11]:\n",
    "            dp[i] = min(dp[i], 1 + (dp[i - j] if i - j >= 0 else inf))\n",
    "    return dp[n]"
   ]
  },
  {
   "cell_type": "code",
   "execution_count": 4,
   "metadata": {
    "ExecuteTime": {
     "end_time": "2018-10-10T23:03:21.387932Z",
     "start_time": "2018-10-10T23:03:21.384681Z"
    }
   },
   "outputs": [
    {
     "name": "stdout",
     "output_type": "stream",
     "text": [
      "2\n",
      "2\n",
      "4\n",
      "3\n",
      "5\n"
     ]
    }
   ],
   "source": [
    "## Test Code: Do not edit\n",
    "print(minCoursesForJane_Memoize(9)) # should be 2\n",
    "print(minCoursesForJane_Memoize(13)) # should be 2\n",
    "print(minCoursesForJane_Memoize(19)) # should be 4\n",
    "print(minCoursesForJane_Memoize(34)) # should be 3\n",
    "print(minCoursesForJane_Memoize(43)) # should be 5"
   ]
  },
  {
   "cell_type": "markdown",
   "metadata": {},
   "source": [
    "## 1(C) Recover the Solution\n",
    "\n",
    "Modify the solution from part B to also return how many steps Jane needs to jump at each course.  Your answer must be\n",
    "a pair: `minimum number of courses, list of jumps at each course: each elements of this list must be 1, 4, 5 or 11`\n"
   ]
  },
  {
   "cell_type": "code",
   "execution_count": 5,
   "metadata": {
    "ExecuteTime": {
     "end_time": "2018-10-10T23:03:21.394733Z",
     "start_time": "2018-10-10T23:03:21.390122Z"
    }
   },
   "outputs": [],
   "source": [
    "from math import inf\n",
    "def minCoursesForJane_Solution(n): # Assume that j = 1 is always the starting point\n",
    "   # Your code here\n",
    "   # must return a pair of number, list\n",
    "   # number returned is the same as minCoursesForJane_Memoize\n",
    "   # list must be a list of jumps consisting of elements [1,4, 5, 11]\n",
    "    dp = [inf]*(n+1)\n",
    "    dp[1] = 0\n",
    "    steps = [None]*(n+1)\n",
    "    steps[1]= []\n",
    "    \n",
    "    for i in range(2, n+1):\n",
    "        step = None\n",
    "        for j in [1,4,5,11]:\n",
    "            prev = dp[i]\n",
    "            dp[i] = 1 + (dp[i - j] if i - j >= 0 else inf)\n",
    "            if dp[i] <= prev:\n",
    "                step = j\n",
    "            else:\n",
    "                dp[i] = prev\n",
    "        steps[i] = steps[i - step][:]\n",
    "        steps[i].append(step)\n",
    "\n",
    "    return dp[n], steps[n]# EDIT"
   ]
  },
  {
   "cell_type": "code",
   "execution_count": 6,
   "metadata": {
    "ExecuteTime": {
     "end_time": "2018-10-10T23:03:21.400226Z",
     "start_time": "2018-10-10T23:03:21.396490Z"
    }
   },
   "outputs": [
    {
     "name": "stdout",
     "output_type": "stream",
     "text": [
      "(2, [4, 4])\n",
      "(2, [1, 11])\n",
      "(4, [1, 1, 5, 11])\n",
      "(3, [11, 11, 11])\n",
      "(5, [4, 5, 11, 11, 11])\n"
     ]
    }
   ],
   "source": [
    "## Test Code: Do not edit\n",
    "print(minCoursesForJane_Solution(9)) # should be 2, [4, 4]\n",
    "print(minCoursesForJane_Solution(13)) # should be 2, [1, 11]\n",
    "print(minCoursesForJane_Solution(19)) # should be 4, [1, 1, 5, 11]\n",
    "print(minCoursesForJane_Solution(34)) # should be 3, [11, 11, 11]\n",
    "print(minCoursesForJane_Solution(43)) # should be 5, [4, 5, 11, 11, 11]"
   ]
  },
  {
   "cell_type": "markdown",
   "metadata": {},
   "source": [
    "## 1(D) Greedy Solution\n",
    "\n",
    "Suppose Jane tried a greedy strategy that works as follows. \n",
    "Initialize number of courses $c = 0$.\n",
    "\n",
    "   1. While $n \\geq 11$,\n",
    "   \n",
    "      1.1 jump $11$ steps forward, and set $n = n - 11$, $ c = c + 1$\n",
    "      \n",
    "      \n",
    "   2. While $n \\geq 5$, \n",
    "      \n",
    "      2.1 jump $5$ steps forward and set $n = n - 5$, $ c = c + 1$\n",
    "      \n",
    "      \n",
    "   3. While $n \\geq 4$, \n",
    "      \n",
    "      3.1 jump $4$ steps forward and set $n = n - 4$, $c = c + 1$\n",
    "      \n",
    "      \n",
    "   4. Finally, while $n > 1$, \n",
    "      \n",
    "      4.1 jump $1$ step forward and set $n = n - 1$, $c = c + 1$\n",
    "     \n",
    "This way, she can reach level $n$ starting from level $1$ using $c$ courses.\n",
    "\n",
    "Show using an example for $n$ that this strategy may require her to take more courses than the optimal solution from dynamic programming."
   ]
  },
  {
   "cell_type": "markdown",
   "metadata": {},
   "source": [
    "__Answer__ \n",
    "\n",
    "Consider the case of reaching level $n = 15$, dynamic programming gives step to be $[5, 5, 4]$ whereas the greedy approach outlined gives steps to be $[11, 1, 1, 1]$. Henceforth, greedy approach may require her to make more course than the optimal solution from dynamic programming"
   ]
  },
  {
   "cell_type": "markdown",
   "metadata": {},
   "source": [
    "## Question 2: The Defeat of Kilokahn\n",
    "\n",
    "Unfortunately, life was not as simple as it seemed in problem 1. Some of the levels have been hacked by an evil group of \n",
    "students who can subvert Jane and her great expertise to serve evil Kilokahn (Kilometric Knowledge-base Animate Human Nullity). \n",
    "\n",
    "Any level j that leaves a remainder of 2 when divided by 7 is to be avoided by Jane as she progresses towards level n (where she\n",
    "becomes a code ninja). However, Kilokahn will not be at level $n$ even if $n \\mod 7 = 2$.\n",
    "\n",
    "Jane_Programmer At Start of Game with Kilokahn lurking:\n",
    "\n",
    "<img src=\"http://www.cs.colorado.edu/~srirams/courses/csci5454-fall18/pictures/jane-picture-p2.png\">\n",
    "\n",
    "\n",
    "\n",
    "\n",
    "## 2(A) Write a recurrence.\n",
    "\n",
    "Write a recurrence `minCoursesForJaneAvoidKK(j, n)` that represents the minimum number of steps for Jane to reach from level j to level n while not reaching any level occupied by Kilokahn.\n"
   ]
  },
  {
   "cell_type": "code",
   "execution_count": 7,
   "metadata": {
    "ExecuteTime": {
     "end_time": "2018-10-10T23:03:21.405367Z",
     "start_time": "2018-10-10T23:03:21.401762Z"
    }
   },
   "outputs": [],
   "source": [
    "from math import inf\n",
    "\n",
    "def minCoursesForJaneAvoidKK(j, n):\n",
    "   # Your code here\n",
    "    diff = n - j\n",
    "    if diff == 0:\n",
    "        return 0\n",
    "    elif j % 7 == 2 or diff < 0:\n",
    "        return inf\n",
    "    \n",
    "    ans = inf\n",
    "    for i in [1,4,5,11]:\n",
    "        ans = min(ans, 1 + minCoursesForJaneAvoidKK(j + i, n))\n",
    "    return ans"
   ]
  },
  {
   "cell_type": "code",
   "execution_count": 8,
   "metadata": {
    "ExecuteTime": {
     "end_time": "2018-10-10T23:04:31.230893Z",
     "start_time": "2018-10-10T23:03:21.407352Z"
    }
   },
   "outputs": [
    {
     "name": "stdout",
     "output_type": "stream",
     "text": [
      "2\n",
      "2\n",
      "4\n",
      "5\n",
      "5\n",
      "6\n"
     ]
    }
   ],
   "source": [
    "## Test Code: Do not edit\n",
    "print(minCoursesForJaneAvoidKK(1, 9)) # should be 2\n",
    "print(minCoursesForJaneAvoidKK(1, 13)) # should be 2\n",
    "print(minCoursesForJaneAvoidKK(1, 19)) # should be 4\n",
    "print(minCoursesForJaneAvoidKK(1, 34)) # should be 5\n",
    "print(minCoursesForJaneAvoidKK(1, 43)) # should be 5\n",
    "print(minCoursesForJaneAvoidKK(1, 55)) # should be 6 "
   ]
  },
  {
   "cell_type": "markdown",
   "metadata": {},
   "source": [
    "## 2(B) Memoize the recurrence in 2(A)"
   ]
  },
  {
   "cell_type": "code",
   "execution_count": 9,
   "metadata": {
    "ExecuteTime": {
     "end_time": "2018-10-10T23:04:31.235705Z",
     "start_time": "2018-10-10T23:04:31.232586Z"
    }
   },
   "outputs": [],
   "source": [
    "def minCoursesForJaneAvoidKK_Memoize(n): # j is assumed to be 1 \n",
    "    # Your code here\n",
    "    dp = [inf]*(n+1)\n",
    "    dp[1] = 0\n",
    "    for i in range(1, n+1):\n",
    "        if n - i != 0 and i % 7 == 2:\n",
    "            continue\n",
    "        for j in [1,4,5,11]:\n",
    "            dp[i] = min(dp[i], 1 + (dp[i - j] if i - j > 0 else inf))\n",
    "    return dp[n]"
   ]
  },
  {
   "cell_type": "code",
   "execution_count": 10,
   "metadata": {
    "ExecuteTime": {
     "end_time": "2018-10-10T23:04:31.243944Z",
     "start_time": "2018-10-10T23:04:31.237487Z"
    }
   },
   "outputs": [
    {
     "name": "stdout",
     "output_type": "stream",
     "text": [
      "2\n",
      "2\n",
      "4\n",
      "5\n",
      "5\n",
      "6\n",
      "8\n",
      "83\n"
     ]
    }
   ],
   "source": [
    "## Test Code: Do not edit\n",
    "print(minCoursesForJaneAvoidKK_Memoize(9)) # should be 2\n",
    "print(minCoursesForJaneAvoidKK_Memoize(13)) # should be 2\n",
    "print(minCoursesForJaneAvoidKK_Memoize(19)) # should be 4\n",
    "print(minCoursesForJaneAvoidKK_Memoize(34)) # should be 5\n",
    "print(minCoursesForJaneAvoidKK_Memoize(43)) # should be 5\n",
    "print(minCoursesForJaneAvoidKK_Memoize(55)) # should be 6\n",
    "print(minCoursesForJaneAvoidKK_Memoize(69)) # should be 8\n",
    "print(minCoursesForJaneAvoidKK_Memoize(812)) # should be 83"
   ]
  },
  {
   "cell_type": "markdown",
   "metadata": {},
   "source": [
    "## 2(C) Recover the solution in terms of number of jumps for each course."
   ]
  },
  {
   "cell_type": "code",
   "execution_count": 11,
   "metadata": {
    "ExecuteTime": {
     "end_time": "2018-10-10T23:04:31.251771Z",
     "start_time": "2018-10-10T23:04:31.246784Z"
    }
   },
   "outputs": [],
   "source": [
    "def minCoursesForJaneAvoidKK_Solution(n):\n",
    "    dp = [inf]*(n+1)\n",
    "    dp[1] = 0\n",
    "    steps = [None]*(n+1)\n",
    "    steps[1]= []\n",
    "    \n",
    "    for i in range(2, n+1):\n",
    "        step = None\n",
    "        if i - n != 0 and i % 7 == 2:\n",
    "            continue\n",
    "        for j in [1,4,5,11]:\n",
    "            prev = dp[i]\n",
    "            dp[i] = 1 + (dp[i - j] if i - j > 0 else inf)\n",
    "            if dp[i] <= prev and dp[i] < inf:\n",
    "                step = j\n",
    "            else:\n",
    "                dp[i] = prev\n",
    "        if step is not None:\n",
    "            steps[i] = steps[i - step][:]\n",
    "            steps[i].append(step)\n",
    "\n",
    "    return dp[n], steps[n]# EDIT"
   ]
  },
  {
   "cell_type": "code",
   "execution_count": 12,
   "metadata": {
    "ExecuteTime": {
     "end_time": "2018-10-10T23:04:31.262554Z",
     "start_time": "2018-10-10T23:04:31.254112Z"
    }
   },
   "outputs": [
    {
     "name": "stdout",
     "output_type": "stream",
     "text": [
      "(2, [4, 4])\n",
      "(2, [11, 1])\n",
      "(4, [5, 1, 1, 11])\n",
      "(5, [5, 1, 11, 11, 5])\n",
      "(5, [4, 5, 11, 11, 11])\n",
      "(6, [5, 11, 11, 11, 11, 5])\n",
      "(8, [11, 1, 11, 11, 11, 11, 11, 1])\n",
      "(83, [5, 11, 11, 11, 11, 5, 11, 11, 11, 11, 5, 11, 11, 11, 11, 5, 11, 11, 11, 11, 5, 11, 11, 11, 11, 5, 11, 11, 11, 11, 5, 11, 11, 11, 11, 5, 11, 11, 11, 11, 5, 11, 11, 11, 11, 5, 11, 11, 11, 11, 5, 11, 11, 11, 11, 5, 11, 11, 11, 11, 5, 11, 11, 11, 11, 5, 11, 11, 11, 11, 5, 11, 11, 11, 11, 5, 11, 11, 11, 11, 5, 11, 11])\n"
     ]
    }
   ],
   "source": [
    "## Test Code: Do not edit\n",
    "print(minCoursesForJaneAvoidKK_Solution(9)) # should be 2, [4, 4]\n",
    "print(minCoursesForJaneAvoidKK_Solution(13)) # should be 2, [11, 1]\n",
    "print(minCoursesForJaneAvoidKK_Solution(19)) # should be 4, [4, 5, 4, 5]\n",
    "print(minCoursesForJaneAvoidKK_Solution(34)) # should be 5, [5, 1, 11, 11, 5]\n",
    "print(minCoursesForJaneAvoidKK_Solution(43)) # should be 5, [4, 5, 11, 11, 11]\n",
    "print(minCoursesForJaneAvoidKK_Solution(55)) # should be 6, [5, 11, 11, 11, 11, 5]\n",
    "print(minCoursesForJaneAvoidKK_Solution(69)) # should be 8, [11, 1, 11, 11, 11, 11, 11, 1]\n",
    "print(minCoursesForJaneAvoidKK_Solution(812)) # should be 83, [5, 11, 11, 11, 11, 5, 11, 11, 11, 11, 5, 11, 11, 11, 11, 5, 11, 11, 11, 11, 5, 11, 11, 11, 11, 5, 11, 11, 11, 11, 5, 11, 11, 11, 11, 5, 11, 11, 11, 11, 5, 11, 11, 11, 11, 5, 11, 11, 11, 11, 5, 11, 11, 11, 11, 5, 11, 11, 11, 11, 5, 11, 11, 11, 11, 5, 11, 11, 11, 11, 5, 11, 11, 11, 11, 5, 11, 11, 11, 11, 5, 11, 11]"
   ]
  },
  {
   "cell_type": "markdown",
   "metadata": {},
   "source": [
    "## Question 3: Energize Jane with a budget.\n",
    "\n",
    "Unfortunately, life was not as simple as it seemed in problem 2. Besides dealing with Kilokahn, taking a course with a level jump consumes\n",
    "a lot of Jane's energy, and she has an energy $E_0$ to begin with. Each time Jane jumps levels, she loses energy as follows:\n",
    "\n",
    "\n",
    "| Jump   | Energy Consumed |\n",
    "|--------|-----------------|\n",
    "|  1     |       1         |\n",
    "|  4     |       2         |\n",
    "|  5     |       3         |\n",
    "| 11     |       7         |\n",
    "\n",
    "\n",
    "If at any point her energy level is $ \\leq 0$ (even if she is at the destination), she will lose.\n",
    "\n",
    "Given $n$, and initial energy $E_0$, plan how Jane can reach level $n$ (ninja level, in case you forgot) while\n",
    "avoiding Kilokahn who  lurks when dividing the level by $7$ leaves a remainder of $2$ and keeping her energy levels\n",
    "always strictly positive.\n",
    "\n",
    "\n",
    "### 3(A): Write a Recurrence\n",
    "\n",
    "Write a recurrence `minCoursesWithEnergyBudget(j, E, n)` that given that Jane is currently on level `j` with energy `E` finds the minimal \n",
    "number of courses she needs to take to reach `n`. Do not forget the base cases."
   ]
  },
  {
   "cell_type": "code",
   "execution_count": 13,
   "metadata": {
    "ExecuteTime": {
     "end_time": "2018-10-10T23:04:31.268836Z",
     "start_time": "2018-10-10T23:04:31.264589Z"
    }
   },
   "outputs": [],
   "source": [
    "def minCoursesWithEnergyBudget(j, e, n):\n",
    "    # Your code here\n",
    "    diff = n - j\n",
    "    if diff == 0 and e > 0:\n",
    "        return 0\n",
    "    elif j % 7 == 2 or diff < 0 or e <= 0:\n",
    "        return inf\n",
    "    \n",
    "    ans = inf\n",
    "    for i, v in [(1,1), (4, 2), (5, 3), (11, 7)]:\n",
    "        if e - v > 0:\n",
    "            ans = min(ans, 1 + minCoursesWithEnergyBudget(j + i, e - v, n))\n",
    "    return ans"
   ]
  },
  {
   "cell_type": "code",
   "execution_count": 14,
   "metadata": {
    "ExecuteTime": {
     "end_time": "2018-10-10T23:05:21.450915Z",
     "start_time": "2018-10-10T23:04:31.270390Z"
    }
   },
   "outputs": [
    {
     "name": "stdout",
     "output_type": "stream",
     "text": [
      "2\n",
      "1\n",
      "5\n",
      "7\n",
      "7\n",
      "7\n",
      "11\n",
      "12\n"
     ]
    }
   ],
   "source": [
    "# test code do not edit\n",
    "print(minCoursesWithEnergyBudget(1, 25, 10)) # must be 2\n",
    "print(minCoursesWithEnergyBudget(1, 25, 6)) # must be 1\n",
    "print(minCoursesWithEnergyBudget(1, 25, 30)) # must be 5\n",
    "print(minCoursesWithEnergyBudget(1, 16, 30)) # must be 7\n",
    "print(minCoursesWithEnergyBudget(1, 18, 31)) # must be 7\n",
    "print(minCoursesWithEnergyBudget(1, 22, 38)) # must be 7\n",
    "print(minCoursesWithEnergyBudget(1, 32, 55)) # must be 11\n",
    "print(minCoursesWithEnergyBudget(1, 35, 60)) # must be 12"
   ]
  },
  {
   "cell_type": "markdown",
   "metadata": {},
   "source": [
    "## 3(B): Memoize the Recurrence\n",
    "\n",
    "Write a memo table to memoize the recurrence. Your memo table must be  of the form $T[j][e]$ for $j$ ranging from $1$ to $n$\n",
    "and $e$ ranging from $0$ to $E$. You will have to handle the base cases carefully."
   ]
  },
  {
   "cell_type": "code",
   "execution_count": 15,
   "metadata": {
    "ExecuteTime": {
     "end_time": "2018-10-10T23:05:21.456643Z",
     "start_time": "2018-10-10T23:05:21.452656Z"
    }
   },
   "outputs": [],
   "source": [
    "def minCoursesWithEnergyBudget_Memoize(E, n): # j is assumed 1 and omitted as an argument.\n",
    "    # Your code here\n",
    "    dp = [[inf for _ in range(E+1)] for _ in range(n + 1)]\n",
    "    dp[1][E] = 0\n",
    "    for i in range(2, n+1):\n",
    "        if i != n and i % 7 == 2:\n",
    "            continue\n",
    "        for e in range(1, E+1):\n",
    "            for s, v in [(1,1), (4, 2), (5, 3), (11, 7)]:\n",
    "                if i - s > 0 and e + v <= E:\n",
    "                    dp[i][e] = min(dp[i][e], 1 + dp[i - s][e + v])\n",
    "    return min(dp[n])"
   ]
  },
  {
   "cell_type": "code",
   "execution_count": 16,
   "metadata": {
    "ExecuteTime": {
     "end_time": "2018-10-10T23:05:21.480612Z",
     "start_time": "2018-10-10T23:05:21.458297Z"
    }
   },
   "outputs": [
    {
     "name": "stdout",
     "output_type": "stream",
     "text": [
      "2\n",
      "1\n",
      "5\n",
      "7\n",
      "7\n",
      "7\n",
      "11\n",
      "12\n"
     ]
    }
   ],
   "source": [
    "# test code do not edit\n",
    "print(minCoursesWithEnergyBudget_Memoize(25, 10)) # must be 2\n",
    "print(minCoursesWithEnergyBudget_Memoize(25, 6)) # must be 1\n",
    "print(minCoursesWithEnergyBudget_Memoize(25, 30)) # must be 5\n",
    "print(minCoursesWithEnergyBudget_Memoize(16, 30)) # must be 7\n",
    "print(minCoursesWithEnergyBudget_Memoize(18, 31)) # must be 7\n",
    "print(minCoursesWithEnergyBudget_Memoize(22, 38)) # must be 7\n",
    "print(minCoursesWithEnergyBudget_Memoize(32, 55)) # must be 11\n",
    "print(minCoursesWithEnergyBudget_Memoize(35, 60)) # must be 12"
   ]
  },
  {
   "cell_type": "markdown",
   "metadata": {},
   "source": [
    "## 3(C): Recover the Solution\n",
    "\n",
    "Now write code that will also return the minimum number of courses along with the list of jumps that will achieve this minimum number"
   ]
  },
  {
   "cell_type": "code",
   "execution_count": 17,
   "metadata": {
    "ExecuteTime": {
     "end_time": "2018-10-10T23:05:21.490690Z",
     "start_time": "2018-10-10T23:05:21.483507Z"
    }
   },
   "outputs": [],
   "source": [
    "def minCoursesWithEnergyBudget_Solution(E, n): # j is assumed 1 and omitted as an argument.\n",
    "    # Your code here\n",
    "    dp = [[inf for _ in range(E+1)] for _ in range(n + 1)]\n",
    "    dp[1][E] = 0\n",
    "    steps = [[None for _ in range(E+1)] for _ in range(n + 1)]\n",
    "    steps[1][E]= []\n",
    "    \n",
    "    for i in range(2, n+1):\n",
    "        ss = None\n",
    "        if i != n and i % 7 == 2:\n",
    "            continue\n",
    "        for e in range(1, E+1):\n",
    "            vv = None\n",
    "            for s, v in [(1,1), (4, 2), (5, 3), (11, 7)]:\n",
    "                if i - s > 0 and e + v <= E:\n",
    "                    prev = dp[i][e]\n",
    "                    dp[i][e] = min(dp[i][e], 1 + dp[i - s][e + v])\n",
    "                    if prev > dp[i][e]:\n",
    "                        ss = s\n",
    "                        vv = v\n",
    "            if ss is not None and vv is not None:\n",
    "                steps[i][e] = steps[i - ss][e + vv][:]\n",
    "                steps[i][e].append(ss)\n",
    "    \n",
    "    idx = dp[n].index(min(dp[n]))\n",
    "    return min(dp[n]), steps[n][idx][::-1]"
   ]
  },
  {
   "cell_type": "code",
   "execution_count": 18,
   "metadata": {
    "ExecuteTime": {
     "end_time": "2018-10-10T23:05:21.527060Z",
     "start_time": "2018-10-10T23:05:21.492894Z"
    }
   },
   "outputs": [
    {
     "name": "stdout",
     "output_type": "stream",
     "text": [
      "(2, [4, 5])\n",
      "(1, [5])\n",
      "(5, [1, 1, 11, 5, 11])\n",
      "(7, [4, 4, 4, 4, 4, 4, 5])\n",
      "(7, [4, 5, 4, 4, 4, 4, 5])\n",
      "(7, [4, 5, 4, 4, 4, 5, 11])\n",
      "(11, [5, 4, 4, 4, 4, 5, 4, 4, 4, 5, 11])\n",
      "(12, [4, 4, 4, 5, 4, 4, 4, 4, 5, 5, 5, 11])\n"
     ]
    }
   ],
   "source": [
    "# test code do not edit\n",
    "print(minCoursesWithEnergyBudget_Solution(25, 10)) # must be 2, [4,5]\n",
    "print(minCoursesWithEnergyBudget_Solution(25, 6)) # must be 1, [5]\n",
    "print(minCoursesWithEnergyBudget_Solution(25, 30)) # must be 5, [4, 5, 4, 5, 11]\n",
    "print(minCoursesWithEnergyBudget_Solution(16, 30)) # must be 7, [4, 5, 4, 4, 4, 4, 4]\n",
    "print(minCoursesWithEnergyBudget_Solution(18, 31)) # must be 7, [4, 5, 4, 4, 4, 4, 5]\n",
    "print(minCoursesWithEnergyBudget_Solution(22, 38)) # must be 7,  [4, 5, 4, 4, 4, 5, 11]\n",
    "print(minCoursesWithEnergyBudget_Solution(32, 55)) # must be 11, [4, 5, 4, 4, 4, 4, 5, 4, 4, 11, 5]\n",
    "print(minCoursesWithEnergyBudget_Solution(35, 60)) # must be 12, [4, 5, 4, 4, 4, 4, 5, 4, 4, 11, 5, 5]"
   ]
  },
  {
   "cell_type": "markdown",
   "metadata": {},
   "source": [
    "## Question 4: Subset Sum Problem\n",
    "\n",
    "> We are given a set of whole numbers $S:\\ \\{ n_1, \\ldots, n_k \\}$ and a number $N$.\n",
    "> Our goal is to choose a subset of numbers $T:\\ \\{ n_{i_1}, \\ldots, n_{i_j} \\} \\subseteq S$ such that\n",
    "\n",
    ">   (a) $\\sum_{l=1}^j n_{i_l}  \\leq N$, the sum of chosen numbers is less than or equal to $N$, \n",
    "\n",
    ">   (b) The difference $N - \\sum_{l=1}^j n_{i_l} $ is made as small as possible.\n",
    "\n",
    "> For example, $S = \\{ 1, 2, 3, 4, 5, 10 \\}$ and $N = 20$ then by choosing $T = \\{1, 2, 3, 4, 5\\}$, we have  \n",
    "$1 + 2 + 3 + 4 + 5 = 15 \\leq 20$, achieving a difference of $5$. However, if we chose $T = \\{ 2,3,5,10\\}$ \n",
    "we obtain a sum of $2 + 3 + 5 + 10 = 20$ achieving the smallest possible difference of $0$.\n",
    "\n",
    "\n",
    "Therefore the problem is as follows:\n",
    "\n",
    "  * Inputs: list  $S: [n_1, \\ldots, n_k]$ and number $N$.\n",
    "  * Output: a list $T$ of elements from $S$ such that sum of elements of $T$ is  $\\leq N$ and $N - \\sum_{e \\in T} e$ is the smallest possible.\n",
    "\n",
    "The subsequent parts to this problem ask you to derive a dynamic programming solution to this problem.\n",
    "\n",
    "__Note:__ Because $S$ and $T$ are viewed as sets, each element in the set may occur exactly once."
   ]
  },
  {
   "cell_type": "markdown",
   "metadata": {},
   "source": [
    " ## 4(A) Show how the decisions can be staged to obtain optimal substructure (expected size: 5 lines)"
   ]
  },
  {
   "cell_type": "markdown",
   "metadata": {},
   "source": [
    "To solve the original problem with N sum and l element in the s_list, we can solve the two subproblems:\n",
    "\n",
    "* Problem of N sum and l - 1 elements in the s_list[1:]\n",
    "* Problem of N - s_list[l-1] sum and l - 1 element in the s_list[1:]\n",
    "\n",
    "That is, one sub-problem doesn't that takes the element from the s_list and the other sub-problem that takes the element from the s_list. Element once taken or discarded is never considered again\n",
    "\n",
    "Now, solution to original problem is simply the minimum of the two sub-problems"
   ]
  },
  {
   "cell_type": "markdown",
   "metadata": {},
   "source": [
    "## 4(B): Write a recursive function for calculating the minimum value of the difference possible. "
   ]
  },
  {
   "cell_type": "code",
   "execution_count": 50,
   "metadata": {
    "ExecuteTime": {
     "end_time": "2018-10-11T00:08:37.237106Z",
     "start_time": "2018-10-11T00:08:37.232976Z"
    }
   },
   "outputs": [],
   "source": [
    "from math import inf\n",
    "\n",
    "def minSubsetDifference_recursive(N, s_list): \n",
    "    # n is the target number \n",
    "    # s_list is a list of elements in the set S\n",
    "    # Your code here\n",
    "    if N <= 0 or len(s_list) == 0:\n",
    "        return abs(N)\n",
    "    \n",
    "    a = minSubsetDifference_recursive(N, s_list[1:])\n",
    "    b = minSubsetDifference_recursive(N - s_list[0], s_list[1:])\n",
    "    \n",
    "    return min(a, b)"
   ]
  },
  {
   "cell_type": "code",
   "execution_count": 51,
   "metadata": {
    "ExecuteTime": {
     "end_time": "2018-10-11T00:08:37.591146Z",
     "start_time": "2018-10-11T00:08:37.581976Z"
    }
   },
   "outputs": [
    {
     "name": "stdout",
     "output_type": "stream",
     "text": [
      "0\n",
      "1\n",
      "0\n",
      "0\n",
      "0\n",
      "1\n",
      "0\n",
      "1\n"
     ]
    }
   ],
   "source": [
    "# Code for testing your solution\n",
    "# DO NOT EDIT\n",
    "print(minSubsetDifference_recursive(15, [1, 2, 3, 4, 5, 10])) # Should be zero\n",
    "print(minSubsetDifference_recursive(26, [1, 2, 3, 4, 5, 10])) # should be 1\n",
    "print(minSubsetDifference_recursive(23, [1, 2, 3, 4, 5, 10])) # should be 0\n",
    "print(minSubsetDifference_recursive(18, [1, 2, 3, 4, 5, 10])) # should be 0\n",
    "print(minSubsetDifference_recursive(9, [1, 2, 3, 4, 5, 10])) # should be 0\n",
    "print(minSubsetDifference_recursive(457, [11, 23, 37, 48, 94, 152, 230, 312, 339, 413])) # should be 1\n",
    "print(minSubsetDifference_recursive(512, [11, 23, 37, 48, 94, 152, 230, 312, 339, 413])) # should be 0\n",
    "print(minSubsetDifference_recursive(616, [11, 23, 37, 48, 94, 152, 230, 312, 339, 413])) # should be 1"
   ]
  },
  {
   "cell_type": "markdown",
   "metadata": {},
   "source": [
    "## 4(C): Memoize the recurrence above. \n",
    "\n",
    "To help with your memoization, use a 2D memo table  $T[n][j]$ that represents the value for `minSubsetDifference(n, s_list[0:j])`. "
   ]
  },
  {
   "cell_type": "code",
   "execution_count": 21,
   "metadata": {
    "ExecuteTime": {
     "end_time": "2018-10-10T23:05:21.548445Z",
     "start_time": "2018-10-10T23:05:21.543742Z"
    }
   },
   "outputs": [],
   "source": [
    "def minSubsetDifference_Memoize(N, s_list):\n",
    "    # your code here\n",
    "    l = len(s_list)\n",
    "    dp = [[False for _ in range(l + 1)] for _ in range(N+1)]\n",
    "    \n",
    "    # 0 sum is possible with all the elements\n",
    "    for i in range(l+1):\n",
    "        dp[0][i] = True\n",
    "    \n",
    "    for i in range(1, N+1):\n",
    "        for j in range(1, l+1):\n",
    "            dp[i][j] = dp[i][j-1]\n",
    "            \n",
    "            if s_list[j-1] <= i:\n",
    "                dp[i][j] = dp[i][j] or dp[i - s_list[j-1]][j-1]\n",
    "                \n",
    "                \n",
    "    ans = inf\n",
    "    for j in range(N, -1, -1):\n",
    "        if dp[j][l]:\n",
    "            ans = N - j\n",
    "            break\n",
    "            \n",
    "    return ans"
   ]
  },
  {
   "cell_type": "code",
   "execution_count": 22,
   "metadata": {
    "ExecuteTime": {
     "end_time": "2018-10-10T23:05:21.573531Z",
     "start_time": "2018-10-10T23:05:21.551292Z"
    }
   },
   "outputs": [
    {
     "name": "stdout",
     "output_type": "stream",
     "text": [
      "0\n",
      "1\n",
      "0\n",
      "0\n",
      "0\n",
      "1\n",
      "0\n",
      "1\n"
     ]
    }
   ],
   "source": [
    "# Code for testing your solution\n",
    "# DO NOT EDIT\n",
    "print(minSubsetDifference_Memoize(15, [1, 2, 3, 4, 5, 10])) # Should be 0\n",
    "print(minSubsetDifference_Memoize(26, [1, 2, 3, 4, 5, 10])) # should be 1\n",
    "print(minSubsetDifference_Memoize(23, [1, 2, 3, 4, 5, 10])) # should be 0\n",
    "print(minSubsetDifference_Memoize(18, [1, 2, 3, 4, 5, 10])) # should be 0\n",
    "print(minSubsetDifference_Memoize(9, [1, 2, 3, 4, 5, 10])) # should be 0\n",
    "print(minSubsetDifference_Memoize(457, [11, 23, 37, 48, 94, 152, 230, 312, 339, 413])) # should be 1\n",
    "print(minSubsetDifference_Memoize(512, [11, 23, 37, 48, 94, 152, 230, 312, 339, 413])) # should be 0\n",
    "print(minSubsetDifference_Memoize(616, [11, 23, 37, 48, 94, 152, 230, 312, 339, 413])) # should be 1"
   ]
  },
  {
   "cell_type": "markdown",
   "metadata": {},
   "source": [
    "## 4(D): Write code to recover the solution"
   ]
  },
  {
   "cell_type": "code",
   "execution_count": 23,
   "metadata": {
    "ExecuteTime": {
     "end_time": "2018-10-10T23:05:21.584674Z",
     "start_time": "2018-10-10T23:05:21.576524Z"
    }
   },
   "outputs": [],
   "source": [
    "def minSubsetDifference(N, s_list):\n",
    "   # Your code here\n",
    "    l = len(s_list)\n",
    "    dp = [[False for _ in range(l + 1)] for _ in range(N+1)]\n",
    "    steps = [[None for _ in range(l+1)] for _ in range(N+1)]\n",
    "    # 0 sum is possible with all the elements\n",
    "    for i in range(l+1):\n",
    "        dp[0][i] = True\n",
    "        steps[0][i] = []\n",
    "    \n",
    "    for i in range(1, N+1):\n",
    "        for j in range(1, l+1):\n",
    "            dp[i][j] = dp[i][j-1]\n",
    "            steps[i][j] = steps[i][j-1][:] if steps[i][j-1] is not None else None \n",
    "            if s_list[j-1] <= i:\n",
    "                dp[i][j] = dp[i][j] or dp[i - s_list[j-1]][j-1]\n",
    "                if dp[i - s_list[j-1]][j-1] and steps[i][j] is None:\n",
    "                    steps[i][j] = steps[i - s_list[j-1]][j-1][:]\n",
    "                    steps[i][j].append(s_list[j-1])\n",
    "                \n",
    "                \n",
    "    ans = inf\n",
    "    ss = None\n",
    "    for j in range(N, -1, -1):\n",
    "        if dp[j][l]:\n",
    "            ans = N - j\n",
    "            ss = steps[j][l][::-1]\n",
    "            break\n",
    "            \n",
    "    return ans, ss"
   ]
  },
  {
   "cell_type": "code",
   "execution_count": 24,
   "metadata": {
    "ExecuteTime": {
     "end_time": "2018-10-10T23:05:21.623186Z",
     "start_time": "2018-10-10T23:05:21.586825Z"
    }
   },
   "outputs": [
    {
     "name": "stdout",
     "output_type": "stream",
     "text": [
      "(0, [5, 4, 3, 2, 1])\n",
      "(1, [10, 5, 4, 3, 2, 1])\n",
      "(0, [10, 5, 4, 3, 1])\n",
      "(0, [10, 4, 3, 1])\n",
      "(0, [4, 3, 2])\n",
      "(1, [339, 94, 23])\n",
      "(0, [312, 152, 37, 11])\n",
      "(1, [413, 94, 48, 37, 23])\n"
     ]
    }
   ],
   "source": [
    "# Code for testing your solution\n",
    "# DO NOT EDIT\n",
    "print(minSubsetDifference(15, [1, 2, 3, 4, 5, 10])) # Should be 0, [5, 4, 3, 2, 1]\n",
    "print(minSubsetDifference(26, [1, 2, 3, 4, 5, 10])) # should be 1, [10, 5, 4, 3, 2, 1]\n",
    "print(minSubsetDifference(23, [1, 2, 3, 4, 5, 10])) # should be 0, [10, 5, 4, 3, 1]\n",
    "print(minSubsetDifference(18, [1, 2, 3, 4, 5, 10])) # should be 0, [10, 4, 3, 1]\n",
    "print(minSubsetDifference(9, [1, 2, 3, 4, 5, 10])) # should be 0, [4, 3, 2]\n",
    "print(minSubsetDifference(457, [11, 23, 37, 48, 94, 152, 230, 312, 339, 413])) # should be 1, [339, 94, 23]\n",
    "print(minSubsetDifference(512, [11, 23, 37, 48, 94, 152, 230, 312, 339, 413])) # should be 0, [312, 152, 37, 11]\n",
    "print(minSubsetDifference(616, [11, 23, 37, 48, 94, 152, 230, 312, 339, 413])) # should be 1, [413, 94, 48, 37]"
   ]
  },
  {
   "cell_type": "markdown",
   "metadata": {},
   "source": [
    "## 4 (E): Greedy Solution\n",
    "\n",
    "Suppose we use the following greedy solution to solve the problem.\n",
    "  * $T = \\emptyset$\n",
    "  * While ( $ N \\geq 0 $) \n",
    "    * Select the largest element $e$ for $S$ that is smaller than $N$\n",
    "    * Remove $e$ from $S$\n",
    "    * Add $e$ to $T$\n",
    "    * N = N - e\n",
    "  * return (N, T)\n",
    "  \n",
    "Using an example, show that the greedy algorithm does not necessarily produce the optimal solution."
   ]
  },
  {
   "cell_type": "markdown",
   "metadata": {},
   "source": [
    "__Your Answer Here__\n",
    "\n",
    "Consider the case of $N = 16$ and $s\\_list = [1, 4, 5, 9]$. Greedy approach picks $T = [9, 5, 4]$ which yield minimum sum to be 2, whereas dynamic programming approach picks $T = [9, 5, 1]$ which yield minimum sum of 1. Therefore, greedy algorithm does not necessarily produce the optimal solution."
   ]
  },
  {
   "cell_type": "markdown",
   "metadata": {},
   "source": [
    "## Testing your solutions -- Do not edit code beyond this point"
   ]
  },
  {
   "cell_type": "code",
   "execution_count": null,
   "metadata": {},
   "outputs": [],
   "source": []
  }
 ],
 "metadata": {
  "kernelspec": {
   "display_name": "Python 3",
   "language": "python",
   "name": "python3"
  },
  "language_info": {
   "codemirror_mode": {
    "name": "ipython",
    "version": 3
   },
   "file_extension": ".py",
   "mimetype": "text/x-python",
   "name": "python",
   "nbconvert_exporter": "python",
   "pygments_lexer": "ipython3",
   "version": "3.5.5"
  },
  "toc": {
   "base_numbering": 1,
   "nav_menu": {},
   "number_sections": true,
   "sideBar": true,
   "skip_h1_title": false,
   "title_cell": "Table of Contents",
   "title_sidebar": "Contents",
   "toc_cell": false,
   "toc_position": {},
   "toc_section_display": true,
   "toc_window_display": false
  }
 },
 "nbformat": 4,
 "nbformat_minor": 2
}
