{
 "cells": [
  {
   "cell_type": "markdown",
   "metadata": {},
   "source": [
    "# CSCI 5454: Assignment 9\n",
    "\n",
    "The assignment may require you to add images to describe solutions. Please include those images with your submission and upload a ZIP file. How to embed an image inside a Jupyter notebook?\n",
    "\n",
    "- Place image in same directory as notebook.\n",
    "- Use HTML tags\n",
    "\n",
    "~~~\n",
    "<img src = \"filename.JPG\" width=\"XX%\">\n",
    "~~~\n",
    "\n",
    "__Example:__\n",
    "\n",
    "<img src=\"https://upload.wikimedia.org/wikipedia/commons/thumb/1/11/GLPK_solution_of_a_travelling_salesman_problem.svg/512px-GLPK_solution_of_a_travelling_salesman_problem.svg.png\" width=\"30%\" >\n"
   ]
  },
  {
   "cell_type": "markdown",
   "metadata": {},
   "source": [
    "## Problem 1: Approximation Ratio For Minimum Makespan Job Scheduling (15 points)\n",
    "\n",
    "In class we studied a greedy approach for distributing $n$ jobs among $m$ processors to achieve\n",
    "a factor $2$ approximation to the optimal solution. In fact, a slightly more careful analysis will\n",
    "show that this factor is actually $2 - \\frac{1}{m}$.\n",
    "\n",
    "For each value of $m$ design $n = m(m-1) + 1$ jobs such that the greedy algorithm's solution\n",
    "is $\\alpha = 2-\\frac{1}{m}$ times the actual optimum.\n",
    "\n",
    "** Hint : ** Create a bunch of \"tiny\" jobs and one big job. How do you make sure that the performance of\n",
    "greedy will be $\\alpha$ times worse than the optimum?"
   ]
  },
  {
   "cell_type": "markdown",
   "metadata": {},
   "source": [
    "## Answer 1 (Expected Size: 6 lines).\n",
    "\n",
    "\n",
    "Consider an instance where $(m^2 - m)$ jobs have unit processing time and a single job has processing time $m$. Suppose the greedy algorithm schedules all the unit jobs before the long job, then the makespan of the schedule obtained is $(2m - 1)$ while the optimal makespan is $m$. Hence, the algorithm gives a schedule which has makespan $(2 - 1/m)$ times the optimal.\n",
    "\n",
    "Optimal makespan: Scheduling big job first and \"tiny\" jobs later."
   ]
  },
  {
   "cell_type": "markdown",
   "metadata": {},
   "source": [
    "## Problem 2: Worst Case for Greedy Vertex Cover (10 Points)\n",
    "\n",
    "We examined a factor 2 approximation for vertex cover in class (see Jeff Erikson's notes).\n",
    "Describe a family of examples consisting of a graph $G_n$ for any $n$ with\n",
    "$n$ vertices wherein the greedy algorithm's vertex cover on $G_n$ is precisely twice as large as\n",
    "the optimal vertex cover."
   ]
  },
  {
   "cell_type": "markdown",
   "metadata": {},
   "source": [
    "## Answer 2 (Expected Size: 5 lines)\n",
    "\n",
    "Any graph $G_n = (V, E)$ with $n \\text{, where } n \\gt 1$, vertices such that degree of each of the vertex is at most 1 shall yield vertex cover on $G_n$ which is precisely twice as large as the optimal vertex cover.\n",
    "\n",
    "Example of such graphs:\n",
    "\n",
    "<img src=\"1.png\">"
   ]
  },
  {
   "cell_type": "markdown",
   "metadata": {},
   "source": [
    "## Problem 3: TSP Approximation (10 points)\n",
    "\n",
    "Describe a weighted graph with $n$ nodes for any $n$ such that the  weights have the metric property such that the size of the optimum TSP tour is  twice the size of the minimum spanning tree. **Hint** Think straight lines!"
   ]
  },
  {
   "cell_type": "markdown",
   "metadata": {},
   "source": [
    "## Answer 3 (Expected Size: 3 Lines)"
   ]
  },
  {
   "cell_type": "markdown",
   "metadata": {},
   "source": [
    "Consider $n$ points such that they are collinear. Let $i$ and $j$ be two points adjacent to each other whose distance is given by $d_{ij}$. Therefore, for a point $k$ s.t $k \\ne i$ (there is only one such point) adjacent to $j$ distance $d_{ik} = d_{ij} + d_{jk}$. Similarly distance between any two points is given by the sum of distances of all the points in between the two points. As we can see this distance satisfies the metric property. \n",
    "\n",
    "Now, modeling these $n$ points as a graph yields a complete graph with $n$ nodes and weight of edge between  $w_{ij} = d_{ij}$. Such is a weighted graph with $n$ nodes for any $n > 1$ such that weights have the metric property such that the size of optimum TSP tour is twice the size of the minimum spanning tree. This is so because the edge completing the cycle has same weight as that of the entire tree. "
   ]
  },
  {
   "cell_type": "code",
   "execution_count": null,
   "metadata": {},
   "outputs": [],
   "source": []
  }
 ],
 "metadata": {
  "kernelspec": {
   "display_name": "Python 3",
   "language": "python",
   "name": "python3"
  },
  "language_info": {
   "codemirror_mode": {
    "name": "ipython",
    "version": 3
   },
   "file_extension": ".py",
   "mimetype": "text/x-python",
   "name": "python",
   "nbconvert_exporter": "python",
   "pygments_lexer": "ipython3",
   "version": "3.5.5"
  }
 },
 "nbformat": 4,
 "nbformat_minor": 2
}
