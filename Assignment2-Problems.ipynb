{
 "cells": [
  {
   "cell_type": "markdown",
   "metadata": {},
   "source": [
    "# CSCI 5454 Assignment 2 \n",
    "\n",
    "Your Name Here: __ Hasil Sharma __ "
   ]
  },
  {
   "cell_type": "markdown",
   "metadata": {},
   "source": [
    "## Problem 1: Axioms of Probability (20 points)\n",
    "\n",
    "Let $A$ be a sample space with a set of events $\\{ \\emptyset, E_1, \\ldots, E_n, A \\}$.  We covered the basic axioms\n",
    "of probability in class and recall a few of these axioms here.\n",
    "- $p(\\emptyset) = 0, p(A) = 1$.\n",
    "- $p(E_i) \\geq 0$ and $p(E_i) \\leq 1$ for all events $E_i$.\n",
    "- If $E_1, E_2, \\ldots, E_n$ are pairwise disjoint then $p(E_1 \\cup E_2 \\cup \\cdots \\cup E_n) = p(E_1) + \\cdots + p(E_n) $.\n",
    "\n",
    "Your proof can only use facts about sets, the  axioms above and previously proven facts in this problem. \n",
    "Please write down your proof as a bulleted list as shown below.\n",
    "\n",
    "> __Example__ Prove that if $E_1 \\subseteq E_2$ then $p(E_2 \\setminus E_1) = p(E_2) - p(E_1)$.\n",
    "\n",
    "> __Proof:__  \n",
    "> 1. $E_2 = E_1 \\cup  (E_2 \\setminus E_1) $.\n",
    "> 2. The sets $E_1, (E_2 \\setminus E_1) $ are disjoint. \n",
    "> 3. Therefore, $p(E_2) = p(E_1) + p(E_2 \\setminus E_1)$ (axiom).  \n",
    "> 4. Rearranging, $p(E_2 \\setminus E_1) = p(E_2) - p(E_1)$.\n",
    "\n",
    "(A) Prove that if $E_1 \\subseteq E_2$ then \n",
    "\n",
    "$$p(E_1) \\leq p(E_2)$$.\n",
    "\n",
    "(B) Prove the inclusion-exclusion principle: \n",
    "\n",
    "$$p(E_1 \\cup E_2) = p(E_1) + p(E_2) - p(E_1 \\cap E_2)\\,.$$\n",
    "\n",
    "(**Hint:** Write $E_1 \\cup E_2 = (E_1 \\setminus (E_1 \\cap E_2)) \\bigcup (E_2 \\setminus (E_1 \\cap E_2)) \\bigcup (E_1 \\cap E_2)$. Feel free to use the result already proved in the example above.).\n",
    "\n",
    "(C) Prove Boole's Inequality:\n",
    "\n",
    "$$p(E_1) + p(E_2) - 1 \\leq p(E_1 \\cup E_2) \\leq p(E_1) + p(E_2)\\,.$$\n",
    "\n",
    "(D) Prove Frechet's Inequality:\n",
    "\n",
    "$$p(E_1) + p(E_2) -1 \\leq p(E_1 \\cap E_2) \\leq \\min( p(E_1), p(E_2) )\\,. $$\n",
    "\n",
    "\n"
   ]
  },
  {
   "cell_type": "markdown",
   "metadata": {},
   "source": [
    "## Solution (Expected Length: 25 lines)\n",
    "\n",
    "> (A) Prove that if $E_1 \\subseteq E_2$ then $p(E_1) \\leq p(E_2)$.\n",
    "\n",
    "From previous we know that, $p(E_2 \\setminus E_1) = p(E_2) - p(E_1)$\n",
    "\n",
    "Rearranging $ p(E_1) = p(E_2) - p(E_2 \\setminus E_1)$\n",
    "\n",
    "\n",
    "Now, $p(E_2 \\setminus E_1)$ is a non-negative quantity (by definition of Probability). Thus,\n",
    "$p(E_2) \\geq p(E_1)$"
   ]
  },
  {
   "cell_type": "markdown",
   "metadata": {},
   "source": [
    "> (B) Prove the inclusion-exclusion principle: $p(E_1 \\cup E_2) = p(E_1) + p(E_2) - p(E_1 \\cap E_2)\\,.$\n",
    "\n",
    "$E_1 \\cup E_2 = (E_1 \\setminus (E_1 \\cap E_2)) \\bigcup (E_2 \\setminus (E_1 \\cap E_2)) \\bigcup (E_1 \\cap E_2)$\n",
    "\n",
    "Now sets, $E_1 \\setminus (E_1 \\cap E_2)$, $E_2 \\setminus (E_1 \\cap E_2)$, and $E_1 \\cap E_2$ are disjoint.\n",
    "\n",
    "Therefore, $p(E_1 \\cup E_2) = p(E_1 \\setminus (E_1 \\cap E_2)) + p(E_2 \\setminus (E_1 \\cap E_2)) + (E_1 \\cap E_2)$\n",
    "\n",
    "Since $(E_1 \\cap E_2) \\subseteq E_1$ and $(E_1 \\cap E_2) \\subseteq E_2$ and using the fact that if $E_1 \\subseteq E_2$ then $p(E_2 \\setminus E_1) = p(E_2) - p(E_1)$. \n",
    "\n",
    "$p(E_1 \\cup E_2) = p(E_1) - p(E_1 \\cap E_2) + p(E_2) - p(E_1 \\cap E_2)) + p(E_1 \\cap E_2)$\n",
    "\n",
    "Which simplifies to,\n",
    "\n",
    "$$p(E_1 \\cup E_2) = p(E_1) + p(E_2) - p(E_1 \\cap E_2))$$"
   ]
  },
  {
   "cell_type": "markdown",
   "metadata": {},
   "source": [
    "> (C) Boole's Inequality: $p(E_1) + p(E_2) - 1 \\leq p(E_1 \\cup E_2) \\leq p(E_1) + p(E_2)\\,.$\n",
    "\n",
    "From inclusion-exclusion principle, we know: $p(E_1 \\cup E_2) = p(E_1) + p(E_2) - p(E_1 \\cap E_2)\\,.$\n",
    "\n",
    "Now, $p(E_1 \\cap E_2)$ value varies from $[0,1]$. Thus,  $p(E_1 \\cup E_2)$ is minimum when $p(E_1 \\cap E_2)$ is maximum i.e $1$ and is maximum when $p(E_1 \\cap E_2)$ takes on minimum value i.e $0$. Therefore,\n",
    "\n",
    "$$p(E_1) + p(E_2) - 1 \\leq p(E_1 \\cup E_2) \\leq p(E_1) + p(E_2)\\,.$$"
   ]
  },
  {
   "cell_type": "markdown",
   "metadata": {
    "ExecuteTime": {
     "end_time": "2018-09-09T02:52:32.394526Z",
     "start_time": "2018-09-09T02:52:32.385872Z"
    }
   },
   "source": [
    "> (D) Frechet's Inequality: $p(E_1) + p(E_2) -1 \\leq p(E_1 \\cap E_2) \\leq \\min( p(E_1), p(E_2) )\\,. $\n",
    "\n",
    "From inclusion-exclusion principle, we know: $p(E_1 \\cup E_2) = p(E_1) + p(E_2) - p(E_1 \\cap E_2)\\,.$ which implies $p(E_1 \\cap E_2) = p(E_1) + p(E_2) - p(E_1 \\cup E_2)$. \n",
    "\n",
    "Because all probabilities are no bigger than 1, we know $p(E_1 \\cup E_2) \\leq 1$, which implies that $p(E_1) + p(E_2) - 1 \\leq p(E_1 \\cap E_2)$\n",
    "\n",
    "To get the upper bound, recall that $p(E_1 \\cap E_2) = p(E_1 | E_2)p(E_2) = p(E_2|E_1) p(E_1)$. Because $p(E_1 | E_2) \\leq 1$ and $p(E_2 | E_1) \\leq 1$, we know that $p(E_1 \\cap E_2) \\leq p(E_1)$ and $p(E_1 \\cap E_2) \\leq p(E_2)$. Therefore, $p(E_1 \\cap E_2) \\leq min(P(E_1), P(E_2))$"
   ]
  },
  {
   "cell_type": "markdown",
   "metadata": {},
   "source": [
    "## Problem 2  (20 points)\n",
    "\n",
    "You are given a fair coin that can come up with heads with probability $\\frac{1}{2}$ \n",
    "and tails with probability $\\frac{1}{2}$. Using this coin, we can simulate coins that have\n",
    "a probability $p = \\frac{1}{8}$ of showing up heads, for example. To do this, toss\n",
    "the fair coin three times and return __heads__ if all three tosses are heads, and __tails__ if any\n",
    "of the tosses showed up tails.\n",
    "\n",
    "__(A)__  Design an algorithm that can simulate a biased \"coin\" with probability\n",
    "of heads given by $p = \\frac{21}{64} = \\frac{1}{4} + \\frac{1}{16} + \\frac{1}{64} $.\n",
    "Your algorithm can perform multiple tosses of the fair coin. Your algorithm\n",
    "should return TRUE with probability $\\frac{21}{64}$\n",
    "and  FALSE with probability $1 - \\frac{21}{64}$.\n",
    "\n",
    "__(B)__  Design an algorithm that can simulate a biased coin with probability\n",
    "of heads given by $\\frac{1}{3} = \\frac{1}{2^2} + \\frac{1}{2^4} + \\frac{1}{2^6} + \\frac{1}{2^8} + \\cdots $.\n",
    "Your algorithm can perform multiple tosses of the fair coin. Your algorithm must\n",
    "return TRUE with probability $\\frac{1}{3}$ and  FALSE with probability\n",
    "$\\frac{2}{3}$.\n",
    "\n",
    "Give a justification as to why the probability of your algorithm returning true is $\\frac{1}{3}$.\n",
    "\n",
    "What is the expected running number of times your algorithm will need to toss the fair coin?\n",
    "\n",
    "\n",
    "__How to write the solution__ \n",
    "\n",
    "> 1. initialize  a counter $i = 1$.\n",
    "> 2. Toss the coin.\n",
    ">   - If it shows up heads ...\n",
    ">   - If it shows up tails ...  \n",
    "> .... \n",
    "> ... i = i + 1, and repeat step 2.\n",
    "> \n",
    "> The reason the algorithm works is because, the probability of returning TRUE is given by the expression\n",
    "> $ \\cdots  = \\frac{1}{3}$. The algorithm performs repeated tosses and therefore, .... The expected running time is xx steps."
   ]
  },
  {
   "cell_type": "markdown",
   "metadata": {},
   "source": [
    "### Answer (Expected Length: 20 lines).\n",
    "\n",
    "> Your answer here for __(A)__ \n",
    "\n",
    "> 1. Initialize a counter $i = 1$\n",
    "> 2. Toss the count.\n",
    "    - $i = i + 1$\n",
    "    - if $i > 7$\n",
    "        - return False\n",
    "    - If it shows up heads \n",
    "        - return True if $i$ is odd else False\n",
    "    - If it shows up tails\n",
    "        - repeat step 2\n",
    "\n",
    "> Answer for __(B)__\n",
    "\n",
    "> 1. Initialize a counter $i = 1$\n",
    "> 2. Toss the count.\n",
    "    - $i = i + 1$\n",
    "    - If it shows up heads \n",
    "        - return True if $i$ is odd else False\n",
    "    - If it shows up tails\n",
    "        - repeat step 2\n",
    "\n",
    "\n",
    "***\n",
    "**Why the algorithm works?**\n",
    "\n",
    "First, write p as a decimal in binary:\n",
    "\n",
    "$p = b_1/2 + b_2/2^2 + b_3/2^3 + \\cdots$\n",
    "$ = 0.b_1b_2b_3\\cdots$\n",
    "\n",
    "Flip the fair coin until it shows heads. Let $n$ be the number of tosses. You win if $b_n = 1$ and you lose otherwise. The probability you win the game is:\n",
    "\n",
    "Pr(you win) = Pr(toss 1 is first H)Pr($b_1=1$) + Pr(toss 2 is first H)Pr($b_2=1$)+ $\\cdots$\n",
    "\n",
    "$=b_1/2 + b_2/2^2 + \\cdots$\n",
    "\n",
    "= binary expansion of $p$ \n",
    "\n",
    "= $p$\n",
    "\n",
    "You win this game with probability exactly equal to $p$. Furthermore, if you toss a coin, it will eventually show heads, so this procedure ends in a finite number of flips with probability 1.\n",
    "\n",
    "Reference :  [link](https://mindyourdecisions.com/blog/2017/01/01/can-you-solve-it-use-a-coin-to-simulate-any-probability-sunday-puzzle/)\n",
    "\n",
    "***\n",
    "**What is the expected running number of times your algorithm will need to toss the fair coin?**\n",
    "\n",
    "We stop whenever we encounter a head for the first time. The coin flips follow a geometric distribution with $p = 0.5$. Now, expected value for a geometric distribution is given by $1/p$. Thus, expected running number of times algorithms need to toss the faire coin = 2."
   ]
  },
  {
   "cell_type": "markdown",
   "metadata": {},
   "source": [
    "### Problem 2(C), 5 points\n",
    "\n",
    "Implement your scheme in 2(B) to get a function that uses a fair coin obtained by calling the inbuilt function\n",
    "`random.getrandbits(1)` in python to get a random bit and returns `True` with probability $\\frac{1}{3}$.\n",
    "Note that $\\frac{1}{3}$ in binary is given by $0.01010101\\cdots$."
   ]
  },
  {
   "cell_type": "code",
   "execution_count": 1,
   "metadata": {
    "ExecuteTime": {
     "end_time": "2018-09-08T04:12:09.124259Z",
     "start_time": "2018-09-08T04:12:09.111889Z"
    }
   },
   "outputs": [],
   "source": [
    "from random import getrandbits\n",
    "def makeOneThirdCoin(): \n",
    "    # binary expansion of 1/3 is 0.0101010101....\n",
    "    # To obtain a random boolean with half probability of true and half probability of false\n",
    "    #         b = bool(getrandbits(1))\n",
    "    # Your code here\n",
    "    count = 0\n",
    "    while not bool(getrandbits(1)):\n",
    "        count = count + 1;\n",
    "    return True if count % 2 == 1 else False"
   ]
  },
  {
   "cell_type": "code",
   "execution_count": 2,
   "metadata": {
    "ExecuteTime": {
     "end_time": "2018-09-10T18:28:13.809231Z",
     "start_time": "2018-09-10T18:28:08.378625Z"
    },
    "scrolled": false
   },
   "outputs": [
    {
     "name": "stdout",
     "output_type": "stream",
     "text": [
      "Count =  3332447  probability est =  0.3332447\n"
     ]
    }
   ],
   "source": [
    "# Test that probability of makeOneThirdCoin() is correct\n",
    "count = 0\n",
    "t = 0\n",
    "nTrials = 10000000\n",
    "for i in range(nTrials): \n",
    "    b = makeOneThirdCoin()\n",
    "    if (b):\n",
    "        count = count + 1\n",
    "print('Count = ', count, ' probability est = ', count/nTrials)"
   ]
  },
  {
   "cell_type": "markdown",
   "metadata": {},
   "source": [
    "## Problem 3 (Coupon Collector's Problem: Experimentally, 15 points)\n",
    "\n",
    "In this problem, we explore the behavior of the coupon's collector problem experimentally. \n",
    "\n",
    "You will need to use random and matplotlib packages for this problem.\n",
    "\n",
    "(A) Complete a python function `simulateCouponCollection(n)` for input ` n > 1` that \n",
    "1. creates a boolean array $b$ of length n initially all false.\n",
    "2. repeatedly generates a uniform random number $j$ from $0$ to $n-1$ and makes $b[j]$ true.\n",
    "3. returns the number of times step 2 needs to be run before all the entries of $b$ become true.\n",
    "The return value is thus the number of coupons collected before all coupons are seen.\n",
    "\n",
    "(B) Next, run `simulateCouponCollection(n)` for $n = 10, 20, 30, ..., 200$.\n",
    "- for each $n$ run the coupon collection at least 1000 times.\n",
    "- Plot the average value of the number of coupons collected against n.\n",
    "- Sample code using matplotlib library is provided.\n",
    "\n",
    "Suggestion: Write a function `runCouponCollectionExperiment()` that varies $n$ over the given range, \n",
    "running `simulateCouponCollection(n)` a thousand times for each n. Compute the average for each \n",
    "n and return a dictionary mapping each `n` to the average value for `n`. \n",
    "Use the provided utility function `plotMap` to plot your map and compare to $1.1 n \\log(n)$. Feel free to augment our simple efforts.\n",
    "\n",
    "(C) Finally fixing $n = 500$, run `simulateCouponCollection(n)` at least 5000 times. And plot a histogram of the results. You will note the \"concentration of measure\" phenomenon clearly. Although the maximum number of trials\n",
    "can be quite large, you will find that the density concentrates closely around $(n \\log(n))$.\n",
    "\n",
    "Suggestion: Write a function `histogramCouponCollection` to obtain the raw data as a list. Use the provided `plotHistogramFromList` function to implement the histogram. Feel free to augment our simple efforts.\n"
   ]
  },
  {
   "cell_type": "code",
   "execution_count": 3,
   "metadata": {
    "ExecuteTime": {
     "end_time": "2018-09-08T07:00:14.190839Z",
     "start_time": "2018-09-08T07:00:14.187672Z"
    }
   },
   "outputs": [],
   "source": [
    "from random import randint\n",
    "def simulateCouponCollection(n):\n",
    "    # Your code here.\n",
    "    array = [False]*n\n",
    "    counter, count = 0, 0\n",
    "    while counter != n:\n",
    "        j = randint(0, n - 1)\n",
    "        count += 1\n",
    "        if not array[j]:\n",
    "            counter += 1\n",
    "            array[j] = True\n",
    "    return count\n",
    "        "
   ]
  },
  {
   "cell_type": "code",
   "execution_count": 4,
   "metadata": {
    "ExecuteTime": {
     "end_time": "2018-09-08T07:00:14.772715Z",
     "start_time": "2018-09-08T07:00:14.763953Z"
    }
   },
   "outputs": [],
   "source": [
    "def runCouponCollectionExperiment(nMax):\n",
    "    returnData = {}\n",
    "    # Your code here\n",
    "    m = 1000\n",
    "    for n in range(10, nMax + 1, 10):\n",
    "        returnData[n] = sum([simulateCouponCollection(n) for i in range(m)]) * 1.0 / m\n",
    "    return returnData"
   ]
  },
  {
   "cell_type": "code",
   "execution_count": 5,
   "metadata": {
    "ExecuteTime": {
     "end_time": "2018-09-08T07:00:26.065534Z",
     "start_time": "2018-09-08T07:00:15.310799Z"
    }
   },
   "outputs": [],
   "source": [
    "mymap = runCouponCollectionExperiment(200)"
   ]
  },
  {
   "cell_type": "code",
   "execution_count": 6,
   "metadata": {
    "ExecuteTime": {
     "end_time": "2018-09-08T07:00:34.531276Z",
     "start_time": "2018-09-08T07:00:34.165736Z"
    }
   },
   "outputs": [],
   "source": [
    "%matplotlib inline\n",
    "import matplotlib.pyplot as plt\n",
    "import math\n",
    "def plotMap(m, nMax):\n",
    "    n = list(range(10, nMax, 10))\n",
    "    v = []\n",
    "    nlogn = [] \n",
    "    for i in n:\n",
    "        nlogn.append( 1.1* i * math.log(i))\n",
    "        if i in m:\n",
    "            v.append(m[i])\n",
    "        else:\n",
    "            print('Warning: no data for n = ', i)\n",
    "            v.append(0)\n",
    "    plt.plot(n, v, 'go-', label='Avg. Steps to Collect all Coupons', linewidth=2)\n",
    "    plt.plot(n, nlogn, 'r--', label='n log(n)', linewidth=2)\n",
    "    plt.xlabel(\"n\")\n",
    "    plt.ylabel(\"# steps to collect all coupons\")\n",
    "    plt.show()\n",
    "        "
   ]
  },
  {
   "cell_type": "code",
   "execution_count": 7,
   "metadata": {
    "ExecuteTime": {
     "end_time": "2018-09-08T07:00:36.071917Z",
     "start_time": "2018-09-08T07:00:35.930042Z"
    }
   },
   "outputs": [
    {
     "data": {
      "image/png": "[encoded data removed]",
      "text/plain": [
       "<Figure size 432x288 with 1 Axes>"
      ]
     },
     "metadata": {},
     "output_type": "display_data"
    }
   ],
   "source": [
    "plotMap(mymap, 200)"
   ]
  },
  {
   "cell_type": "code",
   "execution_count": 8,
   "metadata": {
    "ExecuteTime": {
     "end_time": "2018-09-08T07:00:39.314267Z",
     "start_time": "2018-09-08T07:00:39.310824Z"
    }
   },
   "outputs": [],
   "source": [
    "def runHistogram(n, numTrials):\n",
    "    lst = []\n",
    "    for i in range(numTrials):\n",
    "        lst.append(simulateCouponCollection(n))\n",
    "    return lst"
   ]
  },
  {
   "cell_type": "code",
   "execution_count": 9,
   "metadata": {
    "ExecuteTime": {
     "end_time": "2018-09-08T07:00:56.403722Z",
     "start_time": "2018-09-08T07:00:39.992785Z"
    }
   },
   "outputs": [],
   "source": [
    "lst = runHistogram(500, 5000)"
   ]
  },
  {
   "cell_type": "code",
   "execution_count": 10,
   "metadata": {
    "ExecuteTime": {
     "end_time": "2018-09-08T07:00:58.357665Z",
     "start_time": "2018-09-08T07:00:58.355129Z"
    }
   },
   "outputs": [],
   "source": [
    "def plotHistogramFromList(lst):\n",
    "    plt.hist(lst, density=True, bins=50)\n",
    "    plt.ylabel('Probability')\n",
    "    plt.xlabel('# steps to collect all coupons')\n",
    "    plt.show()"
   ]
  },
  {
   "cell_type": "code",
   "execution_count": 11,
   "metadata": {
    "ExecuteTime": {
     "end_time": "2018-09-08T07:00:59.053743Z",
     "start_time": "2018-09-08T07:00:58.866794Z"
    }
   },
   "outputs": [
    {
     "data": {
      "image/png": "[encoded data removed]",
      "text/plain": [
       "<Figure size 432x288 with 1 Axes>"
      ]
     },
     "metadata": {},
     "output_type": "display_data"
    }
   ],
   "source": [
    "plotHistogramFromList(lst)"
   ]
  },
  {
   "cell_type": "code",
   "execution_count": null,
   "metadata": {},
   "outputs": [],
   "source": []
  }
 ],
 "metadata": {
  "kernelspec": {
   "display_name": "Python 3",
   "language": "python",
   "name": "python3"
  },
  "language_info": {
   "codemirror_mode": {
    "name": "ipython",
    "version": 3
   },
   "file_extension": ".py",
   "mimetype": "text/x-python",
   "name": "python",
   "nbconvert_exporter": "python",
   "pygments_lexer": "ipython3",
   "version": "3.6.5"
  },
  "varInspector": {
   "cols": {
    "lenName": 16,
    "lenType": 16,
    "lenVar": 40
   },
   "kernels_config": {
    "python": {
     "delete_cmd_postfix": "",
     "delete_cmd_prefix": "del ",
     "library": "var_list.py",
     "varRefreshCmd": "print(var_dic_list())"
    },
    "r": {
     "delete_cmd_postfix": ") ",
     "delete_cmd_prefix": "rm(",
     "library": "var_list.r",
     "varRefreshCmd": "cat(var_dic_list()) "
    }
   },
   "types_to_exclude": [
    "module",
    "function",
    "builtin_function_or_method",
    "instance",
    "_Feature"
   ],
   "window_display": false
  }
 },
 "nbformat": 4,
 "nbformat_minor": 2
}
