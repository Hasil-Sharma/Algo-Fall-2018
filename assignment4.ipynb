{
 "cells": [
  {
   "cell_type": "markdown",
   "metadata": {},
   "source": [
    "# CSCI 5454: Assignment 4\n",
    "\n",
    "Your Name: \n",
    "\n",
    "\n",
    "Collaborated With:\n"
   ]
  },
  {
   "cell_type": "markdown",
   "metadata": {},
   "source": [
    "## Problem 1 (10 points)\n",
    "\n",
    "Consider the program below:\n",
    "\n",
    "`def findMinimum(a):\n",
    "     n = len(a)\n",
    "     minSoFar =  math.inf\n",
    "     for i in range(n):\n",
    "         if (a[i] < minSoFar):\n",
    "            minSoFar = a[i] # <-- X\n",
    "     return minSoFar`\n",
    "     \n",
    " If $a$ is a random array of numbers $1, \\ldots, n$ such that any of the $n!$ permutations is equally probable. What is the expected number of times the variable `minSoFar` is updated in the for loop (i.e, the statement marked \"X\" is executed)? Your answer must be a function of $n$, asymptotic notation is fine and you must show the steps/justification that you used to arrive at your answer clearly and concisely."
   ]
  },
  {
   "cell_type": "markdown",
   "metadata": {},
   "source": [
    "## Solution (Expected length: 5 lines)\n",
    "\n",
    "Variable `minSoFar` is updated every time an element larger than all the previous elements is encountered.\n",
    "\n",
    "Let $X_i$ be the indicator random variable associated with the event in which ith element is larger than all the elements seen so far.\n",
    "\n",
    "$$X_i = I\\{ith \\ element \\ is \\ larger \\ than \\ all \\ previous \\ elements\\}$$\n",
    "\n",
    "$$ E[X_i] = E[I\\{X_i\\}] = Pr\\{ith \\ element \\ is \\ larger \\ than \\ all \\ previous \\ elements\\} $$\n",
    "\n",
    "$$X = X_0 + X_1 + \\cdots + X_{n-1}$$\n",
    "\n",
    "Any one of the elements so far is equally likely to be larger of the i elements. Therefore, ith element has $1/(i+1)$ probability of being largest of the i elements.\n",
    "\n",
    "$$E[X] = \\sum_{i=0}^{n-1}E[X_i] = \\sum_{i=0}^{n-1}1/(i+1) = \\ln{n} + O(1)\n",
    "$$\n"
   ]
  },
  {
   "cell_type": "markdown",
   "metadata": {},
   "source": [
    "## Problem 2A (10 points)\n",
    "\n",
    "We will now consider a scheme to randomly permute an array of size $n$. You are allowed to generate a single random bit at a time using the `random.getrandbits(1)` function. Write a function `shuffleArray` that will shuffle an input array of $n$ integers so that any permutation is equally probable.\n",
    "\n",
    "- __Input:__ original list.\n",
    "- __Return:__ shuffled list.\n",
    "\n",
    "You __should not__ modify the original array.  You are __forbidden__ to use any random number generator other than `random.getrandbits(1)`.\n"
   ]
  },
  {
   "cell_type": "code",
   "execution_count": 24,
   "metadata": {},
   "outputs": [],
   "source": [
    "from random import getrandbits\n",
    "import math\n",
    "\n",
    "def customrandom(a, b):\n",
    "    bit_count = math.ceil(math.log2(b - a + 1))\n",
    "    while True:\n",
    "        r = 0\n",
    "        for i in range(bit_count):\n",
    "            r = 2 * r + getrandbits(1)\n",
    "        if a + r <= b:\n",
    "            return a + r\n",
    "        \n",
    "def shuffleArray(a):\n",
    "    ## BEGIN SOLUTION\n",
    "    n = len(a)\n",
    "    b = a[:]\n",
    "    for i in range(n):\n",
    "        j = customrandom(i, n-1)\n",
    "        b[i],b[j] = b[j], b[i]\n",
    "    ## END SOLUTION\n",
    "    return b\n"
   ]
  },
  {
   "cell_type": "code",
   "execution_count": 25,
   "metadata": {},
   "outputs": [
    {
     "name": "stdout",
     "output_type": "stream",
     "text": [
      "Chi-Squared value = 31.106\n",
      "Chi-Squared value = 21.825\n",
      "Chi-Squared value = 14.934\n"
     ]
    },
    {
     "data": {
      "image/png": "[encoded data removed]",
      "text/plain": [
       "<Figure size 432x288 with 1 Axes>"
      ]
     },
     "metadata": {
      "needs_background": "light"
     },
     "output_type": "display_data"
    },
    {
     "data": {
      "image/png": "[encoded data removed]",
      "text/plain": [
       "<Figure size 432x288 with 1 Axes>"
      ]
     },
     "metadata": {
      "needs_background": "light"
     },
     "output_type": "display_data"
    },
    {
     "data": {
      "image/png": "[encoded data removed]",
      "text/plain": [
       "<Figure size 432x288 with 1 Axes>"
      ]
     },
     "metadata": {
      "needs_background": "light"
     },
     "output_type": "display_data"
    }
   ],
   "source": [
    "%matplotlib inline\n",
    "## Begin statistical tests\n",
    "import matplotlib.pyplot as plt\n",
    "\n",
    "def placementTest(n, nTrials, elt):\n",
    "    a = list(range(n))\n",
    "    where = []\n",
    "    for i in range(nTrials):\n",
    "        b = shuffleArray(a)\n",
    "        # find where element n/2 ended up\n",
    "        j = b.index(elt)\n",
    "        where.append(j)\n",
    "    plt.figure(\"Position of elt. %d\"%(elt))\n",
    "    plt.hist(where, bins=80)\n",
    "    plt.xlabel('Position of elt. %d'%(elt))\n",
    "    plt.ylabel('Frequency')\n",
    "    # TODO: Implement a xi-squared test \n",
    "    # for now let us eyeball the histograms.\n",
    "    # the histograms must be near uniform. \n",
    "    frequency = {}\n",
    "    for index in where:\n",
    "        frequency[index] = frequency.get(index, 0) + 1\n",
    "    exp_frequency = nTrials/n\n",
    "    chi_squared = 0\n",
    "    for index in frequency:\n",
    "        chi_squared += (frequency[index] - exp_frequency)**2/exp_frequency\n",
    "    print(\"Chi-Squared value =\", round(chi_squared,3))\n",
    "\n",
    "placementTest(30, 10000, 10)\n",
    "placementTest(25, 10000, 7)\n",
    "placementTest(18, 10000, 0)\n",
    "       \n",
    "##  End statistical tests"
   ]
  },
  {
   "cell_type": "markdown",
   "metadata": {},
   "source": [
    "## Problem 2B  (5 Points)\n",
    "\n",
    "Analyze the expected running time of your algorithm in 2(A) and expected number of random bits used?"
   ]
  },
  {
   "cell_type": "markdown",
   "metadata": {},
   "source": [
    "## Answer (Expected Size: 5 lines).\n",
    "\n",
    "$\\begin{align*}\n",
    "T(n) &= \\sum_{i=0}^{n-1} k*\\log (n - i) \\\\\n",
    "&= k*log(n*(n-1)*(n-2)*\\cdots*1)\\\\\n",
    "&= k*log(n!)\n",
    "\\end{align*}$\n",
    "\n",
    "$k:$ Expected number of times `While True` in `customrandom` executes\n",
    "\n",
    "Therefore, expected running time is $\\Theta(\\log (n!))$\n",
    "\n",
    "For the number of bits used expected value is $k*\\log (n!))$"
   ]
  },
  {
   "cell_type": "markdown",
   "metadata": {},
   "source": [
    "## Problem 3  (20 points)\n",
    "\n",
    "We insert keys from $1, \\ldots, n$ in a random order into a binary search tree. Throughout this problem,\n",
    "node $i$ refers to a node with key $i$. The _priority_ of a node is the rank order in which it is inserted\n",
    "into the tree with the root having priority $1$ and the very last node to be inserted having priority $n$.\n",
    "\n",
    "In class, we showed that a node $i$ is the ancestor of a node $j$ if and only if $i$ has the lowest priority amongst all nodes $\\{ i, \\ldots, j\\}$ (or $\\{ j, \\ldots, i\\}$ if $j < i$).\n",
    "\n",
    "(A) State and prove a condition for node $k$ to be a leaf in the tree.  For the purposes of this problem, a node is a leaf if both its children are NIL. \n",
    "\n",
    "(B) What is the probability that node $k$ is a leaf? __Hint:__ Your answer should analyze nodes $1, n$ separately from nodes $2, \\ldots, n-1$.\n",
    "\n",
    "(C) Calculate the expected number of leaf nodes. Your answer should be exact: asymptotic notations or bounds are not acceptable.\n"
   ]
  },
  {
   "cell_type": "markdown",
   "metadata": {},
   "source": [
    "### Answer (Expected Size: 15 lines)\n",
    "\n",
    "(A) A node $k$ is a leaf in the tree if and only if it is not an ancestor of any of the other nodes. \n",
    "\n",
    "Suppose, nodes are ordered by keys. Let priorities to ordered nodes be: $(p_1, p_2,\\cdots, p_{k-1}, p_k, p_{k+1}, \\cdots p_n)$. $p_k$ is priority corresponding to node $k$. $p_k \\in [1, n]$ All priorities and node keys are distinct.\n",
    "\n",
    "**Claim**:\n",
    "For $k = 2, 3, \\cdots, n-1$, $k$ is a leaf node if and only if $p_k \\gt p_{k-1}$ and $p_k \\gt p_{k+1}$\n",
    "\n",
    "**Proof**: Consider case when $p_{k-1} \\gt p_{k+1}$. Node $k+1$ is inserted into the tree, followed by node $k-1$, which becomes left child of the node $k+1$. On inserting node $k$ it becomes left child of the node $k-1$. Now, all the other nodes with keys $(1, 2, \\cdots, k-2)$ and $(k+2, k+3, \\cdots, n)$ are going to be in left subtree of node $k-1$ and right subtree of node $k+1$ respectively. No node is inserted under node $k$ which therefore becomes a leaf node by definition.\n",
    "\n",
    "Similar, reasoning for the case when $p_{k+1} \\gt p_{k-1}$. And the claim is proved to be true.\n",
    "\n",
    "$Pr[\\text{k is a leaf}] = 2!/3! = 1/3$\n",
    "\n",
    "**Claim**:\n",
    "For $k = 1$, $k$ is a leaf node is and only if $p_k \\gt p_{k+1}$\n",
    "\n",
    "**Proof**: All the nodes with keys greater than ${k+1}$ are going to be inserted on the right subtree of node and only $k$ node is going to be inserted on the left subtree. Therefore, node $k$ is a leaf.\n",
    "\n",
    "Similar, reasoning for the case when $k=n$, $k$ is a leaf node is and only if $p_k \\gt p_{k-1}$\n",
    "\n",
    "$Pr[\\text{k is a leaf}] = 1!/2! = 1/2$\n",
    "\n",
    "(B)\n",
    "\n",
    "$$Pr[\\text{k is a leaf}] = \\begin{cases}\n",
    "1/2, \\text{for $k = 1, n$}\\\\\n",
    "1/3, \\text{for $k = 2, \\cdots, n - 1$}\n",
    "\\end{cases}$$\n",
    "\n",
    "(C)\n",
    "\n",
    "Lets define indicator random variable $X_i$ for $1 \\leq i \\leq n$, by\n",
    "\n",
    "$\n",
    "X_k = I\\text{{node $k$ is a leaf}}\\\\\n",
    "E[X_k] = Pr\\text{{node $k$ is a leaf}}\n",
    "$\n",
    "\n",
    "Let $X$ be the random variable that counts total number of leafs in the tree\n",
    "\n",
    "$X = \\sum_{k=1}^n X_k$\n",
    "\n",
    "Taking expectations on both sides and applying linearity of expectation, we obtain\n",
    "$\\begin{align}\n",
    "E[X] &= \\sum_{i=0}^n E[X_k]\\\\\n",
    "&= E[X_1] + \\sum_{k=2}^{n-1}E[X_k] + E[X_n]\\\\\n",
    "&= 1/2 + \\sum_{k=2}^{n-1}1/3 + 1/2\\\\\n",
    "&= 1 + \\frac{n-2}{3} = \\frac{n+1}{3}\n",
    "\\end{align}$\n"
   ]
  },
  {
   "cell_type": "markdown",
   "metadata": {},
   "source": [
    "## Problem 4 (5 points)\n",
    "\n",
    "We wish to rapidly find the $k^{th}$ smallest element in a skip list. Describe what extra information you would store in each node of the list and how you would find the $k^{th}$ smallest element in a skip list using this information.  What is the running time of your search in the worst case.\n"
   ]
  },
  {
   "cell_type": "markdown",
   "metadata": {},
   "source": [
    "## Answer (Expected Size: 5 lines)\n",
    "\n",
    "\n",
    "For each of the nodes storing its position (or index) in the base list is going to be conducive in finding $k^{th}$ smallest element in a skip list quickly.\n",
    "\n",
    "Assuming $k$ to be valid.\n",
    "\n",
    "Now, $k^{th}$ smallest element corresponds to the element at $kth$ position. Using the position information stored at each level we can traverse the shortcut lists till the point we find node with $k$ as its position.\n",
    "\n",
    "In the worst case, we'll have to traverse entire of the the base list. Therefore, running time is corresponding to the number of nodes in base list which is $O(n)$, where $n$ the number of elements in base list."
   ]
  },
  {
   "cell_type": "code",
   "execution_count": null,
   "metadata": {},
   "outputs": [],
   "source": []
  }
 ],
 "metadata": {
  "kernelspec": {
   "display_name": "Python 3",
   "language": "python",
   "name": "python3"
  },
  "language_info": {
   "codemirror_mode": {
    "name": "ipython",
    "version": 3
   },
   "file_extension": ".py",
   "mimetype": "text/x-python",
   "name": "python",
   "nbconvert_exporter": "python",
   "pygments_lexer": "ipython3",
   "version": "3.5.5"
  }
 },
 "nbformat": 4,
 "nbformat_minor": 2
}
